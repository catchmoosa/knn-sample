{
  "nbformat": 4,
  "nbformat_minor": 0,
  "metadata": {
    "colab": {
      "name": "knn",
      "provenance": []
    },
    "kernelspec": {
      "name": "python3",
      "display_name": "Python 3"
    }
  },
  "cells": [
    {
      "cell_type": "code",
      "metadata": {
        "id": "8NKTZS0VGrcw"
      },
      "source": [
        "\n",
        "import numpy as np\n",
        "from sklearn.impute import SimpleImputer as Imputer\n",
        "from sklearn.model_selection import train_test_split\n",
        "from sklearn.neighbors import KNeighborsClassifier\n",
        "from sklearn.metrics import accuracy_score"
      ],
      "execution_count": 1,
      "outputs": []
    },
    {
      "cell_type": "code",
      "metadata": {
        "id": "m84LMXw8E0Ri"
      },
      "source": [
        "cancer_data = np.genfromtxt(\n",
        "fname ='breast-cancer-wisconsin.data', delimiter= ',', dtype= float)"
      ],
      "execution_count": 2,
      "outputs": []
    },
    {
      "cell_type": "code",
      "metadata": {
        "id": "t4t5OEptE2-W",
        "outputId": "63c69a89-5120-421f-ee3a-6d7b1a4e87be",
        "colab": {
          "base_uri": "https://localhost:8080/"
        }
      },
      "source": [
        "\n",
        "print(\"Dataset Length:: \", len(cancer_data))\n",
        "print(\"Dataset:: \", str(cancer_data))\n",
        "print( \"Dataset Shape:: \", cancer_data.shape)"
      ],
      "execution_count": 3,
      "outputs": [
        {
          "output_type": "stream",
          "text": [
            "Dataset Length::  699\n",
            "Dataset::  [[1.000025e+06 5.000000e+00 1.000000e+00 ... 1.000000e+00 1.000000e+00\n",
            "  2.000000e+00]\n",
            " [1.002945e+06 5.000000e+00 4.000000e+00 ... 2.000000e+00 1.000000e+00\n",
            "  2.000000e+00]\n",
            " [1.015425e+06 3.000000e+00 1.000000e+00 ... 1.000000e+00 1.000000e+00\n",
            "  2.000000e+00]\n",
            " ...\n",
            " [8.888200e+05 5.000000e+00 1.000000e+01 ... 1.000000e+01 2.000000e+00\n",
            "  4.000000e+00]\n",
            " [8.974710e+05 4.000000e+00 8.000000e+00 ... 6.000000e+00 1.000000e+00\n",
            "  4.000000e+00]\n",
            " [8.974710e+05 4.000000e+00 8.000000e+00 ... 4.000000e+00 1.000000e+00\n",
            "  4.000000e+00]]\n",
            "Dataset Shape::  (699, 11)\n"
          ],
          "name": "stdout"
        }
      ]
    },
    {
      "cell_type": "markdown",
      "metadata": {
        "id": "6Ln70e87WdTn"
      },
      "source": [
        "1. Sample code number: id number\n",
        "2. Clump Thickness: 1 – 10\n",
        "3. Uniformity of Cell Size: 1 – 10\n",
        "4. Uniformity of Cell Shape: 1 – 10\n",
        "5. Marginal Adhesion: 1 – 10\n",
        "6. Single Epithelial Cell Size: 1 – 10\n",
        "7. Bare Nuclei: 1 – 10\n",
        "8. Bland Chromatin: 1 – 10\n",
        "9. Normal Nucleoli: 1 – 10\n",
        "10. Mitoses: 1 – 10\n",
        "11. Class: (2 for benign, 4 for malignant)\n",
        "\n"
      ]
    },
    {
      "cell_type": "code",
      "metadata": {
        "id": "g8FOi3oMFqXS"
      },
      "source": [
        "cancer_data = np.delete(arr = cancer_data, obj= 0, axis = 1)"
      ],
      "execution_count": 4,
      "outputs": []
    },
    {
      "cell_type": "code",
      "metadata": {
        "id": "_nSBmYLlFzy7",
        "outputId": "eea6cec2-b24f-473b-da3c-0ba21a7585cc",
        "colab": {
          "base_uri": "https://localhost:8080/"
        }
      },
      "source": [
        "X = cancer_data[:,range(0,9)]\n",
        "Y = cancer_data[:,9]\n",
        "X"
      ],
      "execution_count": 8,
      "outputs": [
        {
          "output_type": "execute_result",
          "data": {
            "text/plain": [
              "array([[ 5.,  1.,  1., ...,  3.,  1.,  1.],\n",
              "       [ 5.,  4.,  4., ...,  3.,  2.,  1.],\n",
              "       [ 3.,  1.,  1., ...,  3.,  1.,  1.],\n",
              "       ...,\n",
              "       [ 5., 10., 10., ...,  8., 10.,  2.],\n",
              "       [ 4.,  8.,  6., ..., 10.,  6.,  1.],\n",
              "       [ 4.,  8.,  8., ..., 10.,  4.,  1.]])"
            ]
          },
          "metadata": {
            "tags": []
          },
          "execution_count": 8
        }
      ]
    },
    {
      "cell_type": "code",
      "metadata": {
        "id": "rvlwhqsTF2G7"
      },
      "source": [
        "imp = Imputer(missing_values=np.nan, strategy='median')\n",
        "X = imp.fit_transform(X)"
      ],
      "execution_count": 9,
      "outputs": []
    },
    {
      "cell_type": "code",
      "metadata": {
        "id": "v4kmeLqgF46v"
      },
      "source": [
        "X_train, X_test, y_train, y_test = train_test_split(\n",
        " X, Y, test_size = 0.3, random_state = 100)\n",
        "y_train = y_train.ravel()\n",
        "y_test = y_test.ravel()"
      ],
      "execution_count": 10,
      "outputs": []
    },
    {
      "cell_type": "code",
      "metadata": {
        "id": "NEXcHO2jF-NA",
        "outputId": "26537ec5-a6ad-4397-8782-4e563f8ff8e5",
        "colab": {
          "base_uri": "https://localhost:8080/"
        }
      },
      "source": [
        "for K in range(25):\n",
        " K_value = K+1\n",
        " neigh = KNeighborsClassifier(n_neighbors = K_value, weights='uniform', algorithm='auto')\n",
        " neigh.fit(X_train, y_train) \n",
        " y_pred = neigh.predict(X_test)\n",
        " print(\"Accuracy is \", accuracy_score(y_test,y_pred)*100,\"% for K-Value:\",K_value)"
      ],
      "execution_count": 11,
      "outputs": [
        {
          "output_type": "stream",
          "text": [
            "Accuracy is  95.23809523809523 % for K-Value: 1\n",
            "Accuracy is  93.33333333333333 % for K-Value: 2\n",
            "Accuracy is  95.71428571428572 % for K-Value: 3\n",
            "Accuracy is  95.23809523809523 % for K-Value: 4\n",
            "Accuracy is  95.71428571428572 % for K-Value: 5\n",
            "Accuracy is  94.76190476190476 % for K-Value: 6\n",
            "Accuracy is  94.76190476190476 % for K-Value: 7\n",
            "Accuracy is  94.28571428571428 % for K-Value: 8\n",
            "Accuracy is  94.76190476190476 % for K-Value: 9\n",
            "Accuracy is  94.28571428571428 % for K-Value: 10\n",
            "Accuracy is  94.28571428571428 % for K-Value: 11\n",
            "Accuracy is  94.76190476190476 % for K-Value: 12\n",
            "Accuracy is  94.76190476190476 % for K-Value: 13\n",
            "Accuracy is  93.80952380952381 % for K-Value: 14\n",
            "Accuracy is  93.80952380952381 % for K-Value: 15\n",
            "Accuracy is  93.80952380952381 % for K-Value: 16\n",
            "Accuracy is  93.80952380952381 % for K-Value: 17\n",
            "Accuracy is  93.80952380952381 % for K-Value: 18\n",
            "Accuracy is  93.80952380952381 % for K-Value: 19\n",
            "Accuracy is  93.80952380952381 % for K-Value: 20\n",
            "Accuracy is  93.80952380952381 % for K-Value: 21\n",
            "Accuracy is  93.80952380952381 % for K-Value: 22\n",
            "Accuracy is  93.80952380952381 % for K-Value: 23\n",
            "Accuracy is  93.80952380952381 % for K-Value: 24\n",
            "Accuracy is  93.80952380952381 % for K-Value: 25\n"
          ],
          "name": "stdout"
        }
      ]
    },
    {
      "cell_type": "code",
      "metadata": {
        "id": "pysTt88cGBP4",
        "outputId": "b4ff710c-bec2-4c75-f7e6-7b8682c7040f",
        "colab": {
          "base_uri": "https://localhost:8080/"
        }
      },
      "source": [
        "neigh = KNeighborsClassifier(n_neighbors = 3, weights='uniform', algorithm='auto')\n",
        "neigh.fit(X, Y)\n",
        "y_pred = neigh.predict([[10,7,7,6,4,10,4,1,2]])\n",
        "print(y_pred)"
      ],
      "execution_count": 12,
      "outputs": [
        {
          "output_type": "stream",
          "text": [
            "[4.]\n"
          ],
          "name": "stdout"
        }
      ]
    }
  ]
}